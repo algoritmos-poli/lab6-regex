{
 "cells": [
  {
   "cell_type": "code",
   "execution_count": 1,
   "id": "41e3f986",
   "metadata": {},
   "outputs": [],
   "source": [
    "import re"
   ]
  },
  {
   "cell_type": "markdown",
   "id": "24e54588",
   "metadata": {},
   "source": [
    "# Quiz Regex Python\n",
    "\n",
    "## Practice regular expresions\n",
    "\n",
    "**Nota**: Toca colocar las cosas que estan en la sección **Capturing groups** de la teoria"
   ]
  },
  {
   "cell_type": "markdown",
   "id": "fdf96ada",
   "metadata": {},
   "source": [
    "### Ejercicio 1\n",
    "\n",
    "La función `check_web_address()` comprueba si el texto proporcionado califica como una dirección web de nivel superior, lo que significa que contiene caracteres alfanuméricos (que incluyen letras, números y guiones bajos), así como puntos, guiones y el signo de más, seguido de un punto y un dominio de nivel superior compuesto solo por caracteres, como \".com\", \".info\", \".edu\", etc. Complete la expresión regular para lograrlo, utilizando caracteres de escape, comodines, cuantificadores de repetición, caracteres de inicio y fin de línea, y clases de caracteres."
   ]
  },
  {
   "cell_type": "code",
   "execution_count": null,
   "id": "89fe94fd",
   "metadata": {},
   "outputs": [],
   "source": [
    "def check_web_address(text):\n",
    "  pattern = ___  # Complete el patron\n",
    "  result = re.search(pattern, text)\n",
    "  return result != None\n",
    "\n",
    "print(check_web_address(\"gmail.com\")) # True\n",
    "print(check_web_address(\"www@google\")) # False\n",
    "print(check_web_address(\"www.Coursera.org\")) # True\n",
    "print(check_web_address(\"web-address.com/homepage\")) # False\n",
    "print(check_web_address(\"My_Favorite-Blog.US\")) # True"
   ]
  },
  {
   "cell_type": "markdown",
   "id": "1721a418",
   "metadata": {},
   "source": [
    "### Ejercicio 2\n",
    "\n",
    "La función `check_time()` comprueba el formato de hora de un reloj de 12 horas, de la siguiente manera: la hora está entre 1 y 12, sin cero a la izquierda, seguida de dos puntos, luego los minutos entre 00 y 59, después un espacio opcional, y finalmente AM o PM, en mayúsculas o minúsculas. Complete la expresión regular para lograrlo. "
   ]
  },
  {
   "cell_type": "code",
   "execution_count": null,
   "id": "9f7c8284",
   "metadata": {},
   "outputs": [],
   "source": [
    "import re\n",
    "def check_time(text):\n",
    "  pattern = ___ # Complete el patron\n",
    "  result = re.search(pattern, text)\n",
    "  return result != None\n",
    "\n",
    "print(check_time(\"12:45pm\")) # True\n",
    "print(check_time(\"9:59 AM\")) # True\n",
    "print(check_time(\"6:60am\")) # False\n",
    "print(check_time(\"five o'clock\")) # False\n",
    "print(check_time(\"6:02 am\")) # True\n",
    "print(check_time(\"6:02km\")) # False"
   ]
  },
  {
   "cell_type": "markdown",
   "id": "46222e24",
   "metadata": {},
   "source": [
    "### Ejercicio 3\n",
    "\n",
    "La función `contains_acronym()` comprueba la presencia en el texto de 2 o más caracteres o dígitos rodeados por paréntesis, con al menos el primer carácter en mayúscula (si es una letra), devolviendo `True` si se cumple la condición, o `False` en caso contrario. Por ejemplo, `\"Instant messaging (IM) is a set of communication technologies used for text-based communication\"` debería devolver `True`, ya que `(IM)` satisface las condiciones de coincidencia. Complete la expresión regular en esta función:"
   ]
  },
  {
   "cell_type": "code",
   "execution_count": null,
   "id": "1dfeb6b6",
   "metadata": {},
   "outputs": [],
   "source": [
    "import re\n",
    "def contains_acronym(text):\n",
    "  pattern = ___ # Complete el patron\n",
    "  result = re.search(pattern, text)\n",
    "  return result != None\n",
    "\n",
    "print(contains_acronym(\"Instant messaging (IM) is a set of communication technologies used for text-based communication\")) # True\n",
    "print(contains_acronym(\"American Standard Code for Information Interchange (ASCII) is a character encoding standard for electronic communication\")) # True\n",
    "print(contains_acronym(\"Please do NOT enter without permission!\")) # False\n",
    "print(contains_acronym(\"PostScript is a fourth-generation programming language (4GL)\")) # True\n",
    "print(contains_acronym(\"Have fun using a self-contained underwater breathing apparatus (Scuba)!\")) # True"
   ]
  },
  {
   "cell_type": "markdown",
   "id": "a560a729",
   "metadata": {},
   "source": [
    "### Ejercicio 4\n",
    "\n",
    "Un pasante implementó un verificador de códigos postales (zip code checker), pero solo funciona con códigos de cinco dígitos. Su tarea es actualizar el verificador para que incluya los nueve dígitos del código postal; es decir, los cinco dígitos principales y los cuatro opcionales después del guion. El código postal debe estar precedido por al menos un espacio y no puede encontrarse al inicio del texto. Actualice la expresión regular."
   ]
  },
  {
   "cell_type": "code",
   "execution_count": null,
   "id": "7c4661cc",
   "metadata": {},
   "outputs": [],
   "source": [
    "def correct_function(text):\n",
    "  result = re.search(r\"_____\", text)  # Corrected regex pattern with space\n",
    "  return result is not None\n",
    "\n",
    "def check_zip_code(text):\n",
    "  return correct_function(text)  # Call the correct_function\n",
    "\n",
    "# Call the check_zip_code function with test cases\n",
    "print(check_zip_code(\"The zip codes for New York are 10001 thru 11104.\"))  # True\n",
    "print(check_zip_code(\"90210 is a TV show\"))  # False (no space before 90210)\n",
    "print(check_zip_code(\"Their address is: 123 Main Street, Anytown, AZ 85258-0001.\"))  # True\n",
    "print(check_zip_code(\"The Parliament of Canada is at 111 Wellington St, Ottawa, ON K1A0A9.\"))  # False"
   ]
  },
  {
   "cell_type": "markdown",
   "id": "d1f120ed",
   "metadata": {},
   "source": [
    "### Ejercicio 5\n",
    "\n",
    "Usted está trabajando con un archivo CSV que contiene información de empleados. Cada registro tiene un campo de nombre, seguido de un campo de número de teléfono y un campo de rol. El campo del número de teléfono contiene números de EE. UU. y necesita ser modificado al formato internacional, con `+1-` al frente del número. El resto del número de teléfono no debe cambiar. Complete la expresión regular, utilizando grupos, para usar la función `transform_record()` con el fin de lograrlo."
   ]
  },
  {
   "cell_type": "code",
   "execution_count": null,
   "id": "a0414880",
   "metadata": {},
   "outputs": [],
   "source": [
    "def transform_record(record):\n",
    "  new_record = re.sub(___)\n",
    "  return new_record\n",
    "\n",
    "print(transform_record(\"Sabrina Green,802-867-5309,System Administrator\")) \n",
    "# Sabrina Green,+1-802-867-5309,System Administrator\n",
    "\n",
    "print(transform_record(\"Eli Jones,684-3481127,IT specialist\")) \n",
    "# Eli Jones,+1-684-3481127,IT specialist\n",
    "\n",
    "print(transform_record(\"Melody Daniels,846-687-7436,Programmer\")) \n",
    "# Melody Daniels,+1-846-687-7436,Programmer\n",
    "\n",
    "print(transform_record(\"Charlie Rivera,698-746-3357,Web Developer\")) \n",
    "# Charlie Rivera,+1-698-746-3357,Web Developer"
   ]
  },
  {
   "cell_type": "markdown",
   "id": "886802d9",
   "metadata": {},
   "source": [
    "### Ejercicio 6\n",
    "\n",
    "La función `multi_vowel_words()` devuelve todas las palabras con 3 o más vocales consecutivas (a, e, i, o, u). Complete la expresión regular para lograrlo."
   ]
  },
  {
   "cell_type": "code",
   "execution_count": null,
   "id": "2930528a",
   "metadata": {},
   "outputs": [],
   "source": [
    "def multi_vowel_words(text):\n",
    "  pattern = ___\n",
    "  result = re.findall(pattern, text)\n",
    "  return result\n",
    "\n",
    "print(multi_vowel_words(\"Life is beautiful\")) \n",
    "# ['beautiful']\n",
    "\n",
    "print(multi_vowel_words(\"Obviously, the queen is courageous and gracious.\")) \n",
    "# ['Obviously', 'queen', 'courageous', 'gracious']\n",
    "\n",
    "print(multi_vowel_words(\"The rambunctious children had to sit quietly and await their delicious dinner.\")) \n",
    "# ['rambunctious', 'quietly', 'delicious']\n",
    "\n",
    "print(multi_vowel_words(\"The order of a data queue is First In First Out (FIFO)\")) \n",
    "# ['queue']\n",
    "\n",
    "print(multi_vowel_words(\"Hello world!\")) \n",
    "# []"
   ]
  },
  {
   "cell_type": "markdown",
   "id": "eaf2e3e6",
   "metadata": {},
   "source": [
    "### Ejercicio 7\n",
    "\n",
    "La función `transform_comments()` convierte los comentarios de un script de Python en aquellos utilizables por un compilador de C. Esto implica buscar texto que comienza con un símbolo de numeral (`#`) y reemplazarlo con una doble barra (`//`), que es el indicador de comentarios de una sola línea en C. Para el propósito de este ejercicio, ignoraremos la posibilidad de que un símbolo de numeral esté incrustado dentro de un comando de Python y asumiremos que solo se utiliza para indicar un comentario. También queremos tratar los símbolos de numeral repetitivos (`##`), (`###`), etc., como un único indicador de comentario, para que sea reemplazado solo por (`//`) y no por (`#//`) o (`//#`). Complete los parámetros del método de sustitución para finalizar esta función:"
   ]
  },
  {
   "cell_type": "code",
   "execution_count": null,
   "id": "513f41f0",
   "metadata": {},
   "outputs": [],
   "source": [
    "def transform_comments(line_of_code):\n",
    "  result = re.sub(___)\n",
    "  return result\n",
    "\n",
    "print(transform_comments(\"### Start of program\")) \n",
    "# Should be \"// Start of program\"\n",
    "print(transform_comments(\"  number = 0   ## Initialize the variable\")) \n",
    "# Should be \"  number = 0   // Initialize the variable\"\n",
    "print(transform_comments(\"  number += 1   # Increment the variable\")) \n",
    "# Should be \"  number += 1   // Increment the variable\"\n",
    "print(transform_comments(\"  return(number)\")) \n",
    "# Should be \"  return(number)\""
   ]
  },
  {
   "cell_type": "markdown",
   "id": "a10e3d1a",
   "metadata": {},
   "source": [
    "### Ejercicio 8\n",
    "\n",
    "La función `convert_phone_number()` comprueba si un número de teléfono de EE. UU. tiene el formato `XXX-XXX-XXXX` (3 dígitos seguidos de un guion, otros 3 dígitos seguidos de un guion y 4 dígitos), y lo convierte a un formato más formal como este: `(XXX) XXX-XXXX`. Complete la expresión regular para finalizar esta función."
   ]
  },
  {
   "cell_type": "code",
   "execution_count": null,
   "id": "7fdba0cb",
   "metadata": {},
   "outputs": [],
   "source": [
    "def convert_phone_number(phone):\n",
    "  result = re.sub(___)\n",
    "  return result\n",
    "\n",
    "print(convert_phone_number(\"My number is 212-345-9999.\")) # My number is (212) 345-9999.\n",
    "print(convert_phone_number(\"Please call 888-555-1234\")) # Please call (888) 555-1234\n",
    "print(convert_phone_number(\"123-123-12345\")) # 123-123-12345\n",
    "print(convert_phone_number(\"Phone number of Buckingham Palace is +44 303 123 7300\")) # Phone number of Buckingham Palace is +44 303 123 7300"
   ]
  },
  {
   "cell_type": "markdown",
   "id": "7af25094",
   "metadata": {},
   "source": [
    "## Importante\n",
    "\n",
    "> **Nota**\n",
    "> \n",
    "> Este laboratorio es una adaptación al español de ejercicios sobre **Regex** del curso **Using Python to Interact with the Operating System by Google** ([link](https://www.coursera.org/learn/python-operating-system))."
   ]
  }
 ],
 "metadata": {
  "kernelspec": {
   "display_name": "base",
   "language": "python",
   "name": "python3"
  },
  "language_info": {
   "codemirror_mode": {
    "name": "ipython",
    "version": 3
   },
   "file_extension": ".py",
   "mimetype": "text/x-python",
   "name": "python",
   "nbconvert_exporter": "python",
   "pygments_lexer": "ipython3",
   "version": "3.12.7"
  }
 },
 "nbformat": 4,
 "nbformat_minor": 5
}

{
 "cells": [
  {
   "cell_type": "markdown",
   "id": "24e54588",
   "metadata": {},
   "source": [
    "# Quiz Regex Python\n",
    "\n",
    "## Practice regular expresions\n",
    "\n",
    "**Nota**: Toca colocar las cosas que estan en la sección **Capturing groups** de la teoria"
   ]
  },
  {
   "cell_type": "markdown",
   "id": "fdf96ada",
   "metadata": {},
   "source": [
    "### Question 1\n",
    "\n",
    "The `check_web_address()` function checks if the text passed qualifies as a top-level web address, meaning that it contains alphanumeric characters (which includes letters, numbers, and underscores), as well as periods, dashes, and a plus sign, followed by a period and a character-only top-level domain such as \".com\", \".info\", \".edu\", etc. Fill in the regular expression to do that, using escape characters, wildcards, repetition qualifiers, beginning and end-of-line characters, and character classes.\n",
    "\n",
    "```python\n",
    "import re\n",
    "def check_web_address(text):\n",
    "  pattern = ___\n",
    "  result = re.search(pattern, text)\n",
    "  return result != None\n",
    "\n",
    "print(check_web_address(\"gmail.com\")) # True\n",
    "print(check_web_address(\"www@google\")) # False\n",
    "print(check_web_address(\"www.Coursera.org\")) # True\n",
    "print(check_web_address(\"web-address.com/homepage\")) # False\n",
    "print(check_web_address(\"My_Favorite-Blog.US\")) # True\n",
    "```"
   ]
  },
  {
   "cell_type": "code",
   "execution_count": 44,
   "id": "89fe94fd",
   "metadata": {},
   "outputs": [
    {
     "name": "stdout",
     "output_type": "stream",
     "text": [
      "True\n",
      "False\n",
      "True\n",
      "False\n",
      "True\n"
     ]
    }
   ],
   "source": [
    "import re\n",
    "def check_web_address(text):\n",
    "  pattern = r\"\\w+\\.\\w+[^\\<\\/]*$\"\n",
    "  result = re.search(pattern, text)\n",
    "  return result != None\n",
    "\n",
    "print(check_web_address(\"gmail.com\")) # True\n",
    "print(check_web_address(\"www@google\")) # False\n",
    "print(check_web_address(\"www.Coursera.org\")) # True\n",
    "print(check_web_address(\"web-address.com/homepage\")) # False\n",
    "print(check_web_address(\"My_Favorite-Blog.US\")) # True"
   ]
  },
  {
   "cell_type": "markdown",
   "id": "1721a418",
   "metadata": {},
   "source": [
    "### Question 2\n",
    "\n",
    "The `check_time()` function checks for the time format of a 12-hour clock, as follows: the hour is between 1 and 12, with no leading zero, followed by a colon, then minutes between 00 and 59, then an optional space, and then AM or PM, in upper or lower case. Fill in the regular expression to do that. How many of the concepts that you just learned can you use here?\n",
    "\n",
    "```python\n",
    "import re\n",
    "def check_time(text):\n",
    "  pattern = ___\n",
    "  result = re.search(pattern, text)\n",
    "  return result != None\n",
    "\n",
    "print(check_time(\"12:45pm\")) # True\n",
    "print(check_time(\"9:59 AM\")) # True\n",
    "print(check_time(\"6:60am\")) # False\n",
    "print(check_time(\"five o'clock\")) # False\n",
    "print(check_time(\"6:02 am\")) # True\n",
    "print(check_time(\"6:02km\")) # False\n",
    "```"
   ]
  },
  {
   "cell_type": "code",
   "execution_count": 57,
   "id": "2c8a4252",
   "metadata": {},
   "outputs": [
    {
     "name": "stdout",
     "output_type": "stream",
     "text": [
      "True\n",
      "True\n",
      "False\n",
      "False\n",
      "True\n",
      "False\n"
     ]
    }
   ],
   "source": [
    "import re\n",
    "def check_time(text):\n",
    "  pattern = r\"^\\d{1,2}:[0-5]\\d[ ]?[AaPp][Mm]$\"\n",
    "  result = re.search(pattern, text)\n",
    "  return result != None\n",
    "\n",
    "print(check_time(\"12:45pm\")) # True\n",
    "print(check_time(\"9:59 AM\")) # True\n",
    "print(check_time(\"6:60am\")) # False\n",
    "print(check_time(\"five o'clock\")) # False\n",
    "print(check_time(\"6:02 am\")) # True\n",
    "print(check_time(\"6:02km\")) # False"
   ]
  },
  {
   "cell_type": "markdown",
   "id": "46222e24",
   "metadata": {},
   "source": [
    "### Question 3\n",
    "\n",
    "The `contains_acronym()` function checks the text for the presence of 2 or more characters or digits surrounded by parentheses, with at least the first character in uppercase (if it's a letter), returning True if the condition is met, or False otherwise. For example, \"Instant messaging (IM) is a set of communication technologies used for text-based communication\" should return True since (IM) satisfies the match conditions.\" Fill in the regular expression in this function: \n",
    "\n",
    "```python\n",
    "import re\n",
    "def contains_acronym(text):\n",
    "  pattern = ___ \n",
    "  result = re.search(pattern, text)\n",
    "  return result != None\n",
    "\n",
    "print(contains_acronym(\"Instant messaging (IM) is a set of communication technologies used for text-based communication\")) # True\n",
    "print(contains_acronym(\"American Standard Code for Information Interchange (ASCII) is a character encoding standard for electronic communication\")) # True\n",
    "print(contains_acronym(\"Please do NOT enter without permission!\")) # False\n",
    "print(contains_acronym(\"PostScript is a fourth-generation programming language (4GL)\")) # True\n",
    "print(contains_acronym(\"Have fun using a self-contained underwater breathing apparatus (Scuba)!\")) # True\n",
    "```"
   ]
  },
  {
   "cell_type": "code",
   "execution_count": 74,
   "id": "1dfeb6b6",
   "metadata": {},
   "outputs": [
    {
     "name": "stdout",
     "output_type": "stream",
     "text": [
      "True\n",
      "True\n",
      "False\n",
      "True\n",
      "True\n"
     ]
    }
   ],
   "source": [
    "import re\n",
    "def contains_acronym(text):\n",
    "  pattern = r\"[(](\\w{2,})[)]\"\n",
    "  result = re.search(pattern, text)\n",
    "  return result != None\n",
    "\n",
    "print(contains_acronym(\"Instant messaging (IM) is a set of communication technologies used for text-based communication\")) # True\n",
    "print(contains_acronym(\"American Standard Code for Information Interchange (ASCII) is a character encoding standard for electronic communication\")) # True\n",
    "print(contains_acronym(\"Please do NOT enter without permission!\")) # False\n",
    "print(contains_acronym(\"PostScript is a fourth-generation programming language (4GL)\")) # True\n",
    "print(contains_acronym(\"Have fun using a self-contained underwater breathing apparatus (Scuba)!\")) # True"
   ]
  },
  {
   "cell_type": "markdown",
   "id": "24905667",
   "metadata": {},
   "source": [
    "### Question 4\n",
    "\n",
    "What does the r before the pattern string in `re.search(r\"Py.*n\", sample.txt)` indicate?\n",
    "- [x] Raw strings\n",
    "- [ ] Regex\n",
    "- [ ] Repeat\n",
    "- [ ] Result\n"
   ]
  },
  {
   "cell_type": "markdown",
   "id": "4830fad3",
   "metadata": {},
   "source": [
    "### Question 5\n",
    "\n",
    "What does the plus character `[+]` do in regex?\n",
    "- [ ] Matches plus sign characters\n",
    "- [x] Matches one or more occurrences of the character before it\n",
    "- [ ] Matches the end of a string\n",
    "- [ ] Matches the character before the `[+]` only if there is more than one"
   ]
  },
  {
   "cell_type": "markdown",
   "id": "a560a729",
   "metadata": {},
   "source": [
    "### Question 6\n",
    "\n",
    "An intern implemented a zip code checker, but it works only with five-digit zip codes. Your task is to update the checker so that it includes all nine digits of the zip code; the leading five digits and the optional four after the hyphen. The zip code needs to be preceded by at least one space, and cannot be at the start of the text. Update the regular expression.\n",
    "\n",
    "```python\n",
    "import re\n",
    "\n",
    "def correct_function(text):\n",
    "  result = re.search(r\"_____\", text)  # Corrected regex pattern with space\n",
    "  return result is not None\n",
    "\n",
    "def check_zip_code(text):\n",
    "  return correct_function(text)  # Call the correct_function\n",
    "\n",
    "# Call the check_zip_code function with test cases\n",
    "print(check_zip_code(\"The zip codes for New York are 10001 thru 11104.\"))  # True\n",
    "print(check_zip_code(\"90210 is a TV show\"))  # False (no space before 90210)\n",
    "print(check_zip_code(\"Their address is: 123 Main Street, Anytown, AZ 85258-0001.\"))  # True\n",
    "print(check_zip_code(\"The Parliament of Canada is at 111 Wellington St, Ottawa, ON K1A0A9.\"))  # False\n",
    "```"
   ]
  },
  {
   "cell_type": "code",
   "execution_count": 77,
   "id": "b61f0eac",
   "metadata": {},
   "outputs": [
    {
     "name": "stdout",
     "output_type": "stream",
     "text": [
      "True\n",
      "False\n",
      "True\n",
      "False\n"
     ]
    }
   ],
   "source": [
    "import re\n",
    "\n",
    "def correct_function(text):\n",
    "  result = re.search(r\" \\d{5}(-\\d{4})?\", text)  # Corrected regex pattern with space\n",
    "  return result is not None\n",
    "\n",
    "def check_zip_code(text):\n",
    "  return correct_function(text)  # Call the correct_function\n",
    "\n",
    "# Call the check_zip_code function with test cases\n",
    "print(check_zip_code(\"The zip codes for New York are 10001 thru 11104.\"))  # True\n",
    "print(check_zip_code(\"90210 is a TV show\"))  # False (no space before 90210)\n",
    "print(check_zip_code(\"Their address is: 123 Main Street, Anytown, AZ 85258-0001.\"))  # True\n",
    "print(check_zip_code(\"The Parliament of Canada is at 111 Wellington St, Ottawa, ON K1A0A9.\"))  # False"
   ]
  }
 ],
 "metadata": {
  "kernelspec": {
   "display_name": "base",
   "language": "python",
   "name": "python3"
  },
  "language_info": {
   "codemirror_mode": {
    "name": "ipython",
    "version": 3
   },
   "file_extension": ".py",
   "mimetype": "text/x-python",
   "name": "python",
   "nbconvert_exporter": "python",
   "pygments_lexer": "ipython3",
   "version": "3.12.7"
  }
 },
 "nbformat": 4,
 "nbformat_minor": 5
}
